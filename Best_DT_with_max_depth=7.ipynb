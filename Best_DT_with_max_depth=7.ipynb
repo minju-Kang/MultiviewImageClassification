{
  "nbformat": 4,
  "nbformat_minor": 0,
  "metadata": {
    "colab": {
      "name": "Best DT with max_depth=7.ipynb",
      "provenance": [],
      "collapsed_sections": [],
      "authorship_tag": "ABX9TyMwJOHkViYyLkxoe8/G5T9h",
      "include_colab_link": true
    },
    "kernelspec": {
      "name": "python3",
      "display_name": "Python 3"
    }
  },
  "cells": [
    {
      "cell_type": "markdown",
      "metadata": {
        "id": "view-in-github",
        "colab_type": "text"
      },
      "source": [
        "<a href=\"https://colab.research.google.com/github/minju-Kang/MultiviewImageClassification/blob/main/Best_DT_with_max_depth%3D7.ipynb\" target=\"_parent\"><img src=\"https://colab.research.google.com/assets/colab-badge.svg\" alt=\"Open In Colab\"/></a>"
      ]
    },
    {
      "cell_type": "code",
      "metadata": {
        "colab": {
          "base_uri": "https://localhost:8080/"
        },
        "id": "xHTeI9EQjFHW",
        "outputId": "9487f978-7395-4387-e0e1-80873ef6d6b7"
      },
      "source": [
        "from google.colab import drive \n",
        "drive.mount('/content/gdrive')"
      ],
      "execution_count": null,
      "outputs": [
        {
          "output_type": "stream",
          "text": [
            "Mounted at /content/gdrive\n"
          ],
          "name": "stdout"
        }
      ]
    },
    {
      "cell_type": "code",
      "metadata": {
        "id": "PymPLGvQkGa7"
      },
      "source": [
        "import glob\n",
        "import os\n",
        "import pandas as pd\n",
        "from sklearn.model_selection import train_test_split, GridSearchCV\n",
        "import time\n",
        "from sklearn.tree import DecisionTreeClassifier\n",
        "from sklearn.metrics import accuracy_score\n",
        "import pydotplus\n",
        "from sklearn.tree import export_graphviz\n",
        "from IPython.core.display import Image"
      ],
      "execution_count": null,
      "outputs": []
    },
    {
      "cell_type": "code",
      "metadata": {
        "id": "HNiEUkS-t4CR"
      },
      "source": [
        "path = r'/content/gdrive/My Drive/Multiview Classification/data'\n",
        "input_num = 14\n",
        "seed = 0\n",
        "\n",
        "directory = ['all_4_mode_10', 'all_4_mode_26', 'all_4_mode_37', 'all_4_mode_38']\n",
        "df = []\n",
        "for dir in directory:\n",
        "  [file] = glob.glob(os.path.join(path, dir, \"*.csv\"))\n",
        "  df.append(pd.read_csv(file, header=None))"
      ],
      "execution_count": null,
      "outputs": []
    },
    {
      "cell_type": "code",
      "metadata": {
        "colab": {
          "base_uri": "https://localhost:8080/"
        },
        "id": "fFu3wyxX3BDt",
        "outputId": "8d25d6a4-d614-4615-a754-ffc8959a81d5"
      },
      "source": [
        "# mode10\n",
        "df_mode10 = df[0]\n",
        "print(len(df_mode10[df_mode10[input_num]==0]))\n",
        "print(len(df_mode10[df_mode10[input_num]==1]), end='\\n\\n')\n",
        "df_mode10 = df_mode10.to_numpy()\n",
        "\n",
        "# mode26\n",
        "df_mode26 = df[1]\n",
        "print(len(df_mode26[df_mode26[input_num]==0]))\n",
        "print(len(df_mode26[df_mode26[input_num]==1]), end='\\n\\n')\n",
        "df_mode26 = df_mode26.to_numpy()\n",
        "\n",
        "# mode37\n",
        "df_mode37 = df[2]\n",
        "print(len(df_mode37[df_mode37[input_num]==0]))\n",
        "print(len(df_mode37[df_mode37[input_num]==1]), end='\\n\\n')\n",
        "df_mode37 = df_mode37.to_numpy()\n",
        "\n",
        "# mode38\n",
        "df_mode38 = df[3]\n",
        "print(len(df_mode38[df_mode38[input_num]==0]))\n",
        "print(len(df_mode38[df_mode38[input_num]==1]), end='\\n\\n')\n",
        "df_mode38 = df_mode38.to_numpy()"
      ],
      "execution_count": null,
      "outputs": [
        {
          "output_type": "stream",
          "text": [
            "226392\n",
            "56985\n",
            "\n",
            "1348593\n",
            "328651\n",
            "\n",
            "382452\n",
            "95956\n",
            "\n",
            "730963\n",
            "187309\n",
            "\n"
          ],
          "name": "stdout"
        }
      ]
    },
    {
      "cell_type": "markdown",
      "metadata": {
        "id": "9mEX30ElRTFJ"
      },
      "source": [
        "# 모드 10"
      ]
    },
    {
      "cell_type": "code",
      "metadata": {
        "id": "u8TeHqFtRkvL"
      },
      "source": [
        "x = df_mode10[:, 0:input_num]\n",
        "y = df_mode10[:, input_num]\n",
        "X_train, X_test, Y_train, Y_test = train_test_split(x, y, test_size=0.2, random_state=seed)"
      ],
      "execution_count": null,
      "outputs": []
    },
    {
      "cell_type": "code",
      "metadata": {
        "id": "sGiLpMfvRvQ_"
      },
      "source": [
        "# min_impurity_decrease=0.15\n",
        "\n",
        "start = time.time()\n",
        "\n",
        "dt = DecisionTreeClassifier(max_depth=7, min_impurity_decrease=0.15, random_state=seed)\n",
        "dt.fit(X_train, Y_train)\n",
        "\n",
        "pred_dt = dt.predict(X_test)\n",
        "print('Accuracy: %.4f' % accuracy_score(Y_test, pred_dt))\n",
        "\n",
        "print(\"\\ntime :\", time.time() - start)\n",
        "\n",
        "print(\"feature importance: \\n{}\".format(dt.feature_importances_))\n",
        "\n",
        "dot_data = export_graphviz(dt, out_file=None, filled=True, rounded=True, special_characters=True, class_names=[\"0\",\"1\"])\n",
        "graph = pydotplus.graph_from_dot_data(dot_data)\n",
        "graph.write_png('dt_depth7_impurity.png')\n",
        "\n",
        "del dt"
      ],
      "execution_count": null,
      "outputs": []
    },
    {
      "cell_type": "code",
      "metadata": {
        "id": "qfehut0XRxqN"
      },
      "source": [
        "# min_impurity_decrease=0.01\n",
        "\n",
        "start = time.time()\n",
        "\n",
        "dt = DecisionTreeClassifier(max_depth=7, min_impurity_decrease=0.01, random_state=seed)\n",
        "dt.fit(X_train, Y_train)\n",
        "\n",
        "pred_dt = dt.predict(X_test)\n",
        "print('Accuracy: %.4f' % accuracy_score(Y_test, pred_dt))\n",
        "\n",
        "print(\"\\ntime :\", time.time() - start)\n",
        "\n",
        "print(\"feature importance: \\n{}\".format(dt.feature_importances_))\n",
        "\n",
        "dot_data = export_graphviz(dt, out_file=None, filled=True, rounded=True, special_characters=True, class_names=[\"0\",\"1\"])\n",
        "graph = pydotplus.graph_from_dot_data(dot_data)\n",
        "graph.write_png('dt_depth7_impurity.png')\n",
        "\n",
        "del dt"
      ],
      "execution_count": null,
      "outputs": []
    },
    {
      "cell_type": "code",
      "metadata": {
        "colab": {
          "base_uri": "https://localhost:8080/"
        },
        "id": "D7dyKtQbR-12",
        "outputId": "6b3e270c-ce5c-4b01-8bce-8fc54eb4d0c6"
      },
      "source": [
        "# 다른 제한 없음\n",
        "\n",
        "start = time.time()\n",
        "\n",
        "dt = DecisionTreeClassifier(max_depth=7, random_state=seed)\n",
        "dt.fit(X_train, Y_train)\n",
        "\n",
        "pred_dt = dt.predict(X_test)\n",
        "print('Accuracy: %.4f' % accuracy_score(Y_test, pred_dt))\n",
        "\n",
        "print(\"\\ntime :\", time.time() - start)\n",
        "\n",
        "print(\"feature importance: \\n{}\".format(dt.feature_importances_))\n",
        "\n",
        "dot_data = export_graphviz(dt, out_file=None, filled=True, rounded=True, special_characters=True, class_names=[\"0\",\"1\"])\n",
        "graph = pydotplus.graph_from_dot_data(dot_data)\n",
        "graph.write_png('mode10_dt_depth7.png')\n",
        "\n",
        "del dt"
      ],
      "execution_count": null,
      "outputs": [
        {
          "output_type": "stream",
          "text": [
            "Accuracy: 0.9561\n",
            "\n",
            "time : 10.947414636611938\n",
            "feature importance: \n",
            "[0.00244157 0.00254394 0.00413534 0.00893004 0.05235992 0.00707179\n",
            " 0.87511029 0.00751459 0.00114929 0.00110815 0.02414457 0.00226296\n",
            " 0.0031208  0.00810676]\n"
          ],
          "name": "stdout"
        }
      ]
    },
    {
      "cell_type": "code",
      "metadata": {
        "colab": {
          "base_uri": "https://localhost:8080/"
        },
        "id": "TSqMy577R-19",
        "outputId": "493a50d0-8819-4b47-87b5-c5fc77471f87"
      },
      "source": [
        "# min_samples_leaf=5\n",
        "\n",
        "start = time.time()\n",
        "\n",
        "dt = DecisionTreeClassifier(max_depth=7, min_samples_leaf=5, random_state=seed)\n",
        "dt.fit(X_train, Y_train)\n",
        "\n",
        "pred_dt = dt.predict(X_test)\n",
        "print('Accuracy: %.4f' % accuracy_score(Y_test, pred_dt))\n",
        "\n",
        "print(\"\\ntime :\", time.time() - start)\n",
        "\n",
        "print(\"feature importance: \\n{}\".format(dt.feature_importances_))\n",
        "\n",
        "dot_data = export_graphviz(dt, out_file=None, filled=True, rounded=True, special_characters=True, class_names=[\"0\",\"1\"])\n",
        "graph = pydotplus.graph_from_dot_data(dot_data)\n",
        "graph.write_png('dt_depth7_minleaf.png')\n",
        "\n",
        "del dt"
      ],
      "execution_count": null,
      "outputs": [
        {
          "output_type": "stream",
          "text": [
            "Accuracy: 0.9561\n",
            "\n",
            "time : 10.9040367603302\n",
            "feature importance: \n",
            "[0.00243357 0.00254658 0.00413834 0.00892991 0.05236096 0.00707295\n",
            " 0.87512768 0.00751731 0.00115424 0.00108891 0.02414505 0.00225856\n",
            " 0.00311903 0.00810692]\n"
          ],
          "name": "stdout"
        }
      ]
    },
    {
      "cell_type": "code",
      "metadata": {
        "colab": {
          "base_uri": "https://localhost:8080/"
        },
        "id": "7glsWxyRSFfG",
        "outputId": "51ef3dfc-a0d3-4f41-b8e3-0b5a5a940676"
      },
      "source": [
        "# min_samples_leaf=5, min_samples_split=5\n",
        "\n",
        "start = time.time()\n",
        "\n",
        "dt = DecisionTreeClassifier(max_depth=7, min_samples_leaf=5, min_samples_split=5, random_state=seed)\n",
        "dt.fit(X_train, Y_train)\n",
        "\n",
        "pred_dt = dt.predict(X_test)\n",
        "print('Accuracy: %.4f' % accuracy_score(Y_test, pred_dt))\n",
        "\n",
        "print(\"\\ntime :\", time.time() - start)\n",
        "\n",
        "print(\"feature importance: \\n{}\".format(dt.feature_importances_))\n",
        "\n",
        "dot_data = export_graphviz(dt, out_file=None, filled=True, rounded=True, special_characters=True, class_names=[\"0\",\"1\"])\n",
        "graph = pydotplus.graph_from_dot_data(dot_data)\n",
        "graph.write_png('dt_depth7_minleaf_minsplit.png')\n",
        "\n",
        "del dt"
      ],
      "execution_count": null,
      "outputs": [
        {
          "output_type": "stream",
          "text": [
            "Accuracy: 0.9561\n",
            "\n",
            "time : 10.828441619873047\n",
            "feature importance: \n",
            "[0.00243357 0.00254658 0.00413834 0.00892991 0.05236096 0.00707295\n",
            " 0.87512768 0.00751731 0.00115424 0.00108891 0.02414505 0.00225856\n",
            " 0.00311903 0.00810692]\n"
          ],
          "name": "stdout"
        }
      ]
    },
    {
      "cell_type": "code",
      "metadata": {
        "colab": {
          "base_uri": "https://localhost:8080/"
        },
        "id": "0W7STBA1SFfI",
        "outputId": "64bf5bad-5642-40b1-d3de-e03012415396"
      },
      "source": [
        "params = {'min_impurity_decrease':[0.01], 'min_samples_leaf': [1,2,3,4,5], 'min_samples_split': [2,3,4], 'max_features': [11,12,13,14,None]}\n",
        "grid_search_cv = GridSearchCV(DecisionTreeClassifier(max_depth=7, random_state=seed), params, verbose=1, cv=5)\n",
        "grid_search_cv.fit(X_train, Y_train)\n",
        "print(grid_search_cv.best_estimator_)\n",
        "\n",
        "pred_grid_search_cv = grid_search_cv.predict(X_test)\n",
        "print('Accuracy: %.4f' % accuracy_score(Y_test, pred_grid_search_cv))"
      ],
      "execution_count": null,
      "outputs": [
        {
          "output_type": "stream",
          "text": [
            "Fitting 5 folds for each of 75 candidates, totalling 375 fits\n"
          ],
          "name": "stdout"
        },
        {
          "output_type": "stream",
          "text": [
            "[Parallel(n_jobs=1)]: Using backend SequentialBackend with 1 concurrent workers.\n"
          ],
          "name": "stderr"
        }
      ]
    },
    {
      "cell_type": "markdown",
      "metadata": {
        "id": "PketUnGANCG3"
      },
      "source": [
        "# 모드 26"
      ]
    },
    {
      "cell_type": "code",
      "metadata": {
        "id": "aGUYS5tIHtgX"
      },
      "source": [
        "x = df_mode26[:, 0:input_num]\n",
        "y = df_mode26[:, input_num]\n",
        "X_train, X_test, Y_train, Y_test = train_test_split(x, y, test_size=0.2, random_state=seed)"
      ],
      "execution_count": null,
      "outputs": []
    },
    {
      "cell_type": "code",
      "metadata": {
        "colab": {
          "base_uri": "https://localhost:8080/"
        },
        "id": "MeIyznZudtuP",
        "outputId": "3defee48-6576-4123-b52f-52ee1c9d4f42"
      },
      "source": [
        "# 다른 제한 없음\n",
        "\n",
        "start = time.time()\n",
        "\n",
        "dt = DecisionTreeClassifier(max_depth=7, random_state=seed)\n",
        "dt.fit(X_train, Y_train)\n",
        "\n",
        "pred_dt = dt.predict(X_test)\n",
        "print('Accuracy: %.4f' % accuracy_score(Y_test, pred_dt))\n",
        "\n",
        "print(\"\\ntime :\", time.time() - start)\n",
        "print(\"feature importance: \\n{}\".format(dt.feature_importances_))\n",
        "\n",
        "dot_data = export_graphviz(dt, out_file=None, filled=True, rounded=True, special_characters=True, class_names=[\"0\",\"1\"])\n",
        "graph = pydotplus.graph_from_dot_data(dot_data)\n",
        "graph.write_png('mode26_dt_depth7.png')\n",
        "\n",
        "del dt"
      ],
      "execution_count": null,
      "outputs": [
        {
          "output_type": "stream",
          "text": [
            "Accuracy: 0.9561\n",
            "\n",
            "time : 8.005919218063354\n",
            "feature importance: \n",
            "[0.00244157 0.00254394 0.00413534 0.00893004 0.05235992 0.00707179\n",
            " 0.87511029 0.00751459 0.00114929 0.00110815 0.02414457 0.00226296\n",
            " 0.0031208  0.00810676]\n"
          ],
          "name": "stdout"
        }
      ]
    },
    {
      "cell_type": "code",
      "metadata": {
        "colab": {
          "base_uri": "https://localhost:8080/"
        },
        "id": "6ISE7yvQzkIa",
        "outputId": "3258fdfa-c303-4163-992b-c8a9b275a909"
      },
      "source": [
        "# min_impurity_decrease=0.01\n",
        "\n",
        "start = time.time()\n",
        "\n",
        "dt = DecisionTreeClassifier(max_depth=7, min_impurity_decrease=0.01, random_state=seed)\n",
        "dt.fit(X_train, Y_train)\n",
        "\n",
        "pred_dt = dt.predict(X_test)\n",
        "print('Accuracy: %.4f' % accuracy_score(Y_test, pred_dt))\n",
        "\n",
        "print(\"\\ntime :\", time.time() - start)\n",
        "print(\"feature importance: \\n{}\".format(dt.feature_importances_))\n",
        "\n",
        "del dt"
      ],
      "execution_count": null,
      "outputs": [
        {
          "output_type": "stream",
          "text": [
            "Accuracy: 0.9525\n",
            "\n",
            "time : 4.644129276275635\n",
            "feature importance: \n",
            "[0.         0.         0.         0.         0.04891353 0.\n",
            " 0.95108647 0.         0.         0.         0.         0.\n",
            " 0.         0.        ]\n"
          ],
          "name": "stdout"
        }
      ]
    },
    {
      "cell_type": "code",
      "metadata": {
        "colab": {
          "base_uri": "https://localhost:8080/"
        },
        "id": "kS-nZKdigDT7",
        "outputId": "5039a161-1fc5-42ca-db82-899b78f0723c"
      },
      "source": [
        "# min_samples_leaf=5\n",
        "\n",
        "start = time.time()\n",
        "\n",
        "dt = DecisionTreeClassifier(max_depth=7, min_samples_leaf=5, random_state=seed)\n",
        "dt.fit(X_train, Y_train)\n",
        "\n",
        "pred_dt = dt.predict(X_test)\n",
        "print('Accuracy: %.4f' % accuracy_score(Y_test, pred_dt))\n",
        "\n",
        "print(\"\\ntime :\", time.time() - start)\n",
        "print(\"feature importance: \\n{}\".format(dt.feature_importances_))\n",
        "\n",
        "del dt"
      ],
      "execution_count": null,
      "outputs": [
        {
          "output_type": "stream",
          "text": [
            "Accuracy: 0.9561\n",
            "\n",
            "time : 7.491430044174194\n",
            "feature importance: \n",
            "[0.00243357 0.00254658 0.00413834 0.00892991 0.05236096 0.00707295\n",
            " 0.87512768 0.00751731 0.00115424 0.00108891 0.02414505 0.00225856\n",
            " 0.00311903 0.00810692]\n"
          ],
          "name": "stdout"
        }
      ]
    },
    {
      "cell_type": "code",
      "metadata": {
        "colab": {
          "base_uri": "https://localhost:8080/"
        },
        "id": "mIf_0MlV6ykx",
        "outputId": "da672830-59ce-4f3c-fab9-3b67fd063023"
      },
      "source": [
        "# min_samples_split=5\n",
        "\n",
        "start = time.time()\n",
        "\n",
        "dt = DecisionTreeClassifier(max_depth=7, min_samples_split=5, random_state=seed)\n",
        "dt.fit(X_train, Y_train)\n",
        "\n",
        "pred_dt = dt.predict(X_test)\n",
        "print('Accuracy: %.4f' % accuracy_score(Y_test, pred_dt))\n",
        "\n",
        "print(\"\\ntime :\", time.time() - start)\n",
        "print(\"feature importance: \\n{}\".format(dt.feature_importances_))\n",
        "\n",
        "del dt"
      ],
      "execution_count": null,
      "outputs": [
        {
          "output_type": "stream",
          "text": [
            "Accuracy: 0.9561\n",
            "\n",
            "time : 7.4447407722473145\n",
            "feature importance: \n",
            "[0.00244157 0.00254394 0.00413534 0.00893004 0.05235992 0.00707179\n",
            " 0.87511029 0.00751459 0.00114929 0.00110815 0.02414457 0.00226296\n",
            " 0.0031208  0.00810676]\n"
          ],
          "name": "stdout"
        }
      ]
    },
    {
      "cell_type": "code",
      "metadata": {
        "colab": {
          "base_uri": "https://localhost:8080/"
        },
        "id": "9EHQ-5It2GtM",
        "outputId": "4effba1b-951a-4c08-97ca-f0ae260331e1"
      },
      "source": [
        "# max_features=10\n",
        "\n",
        "start = time.time()\n",
        "\n",
        "dt = DecisionTreeClassifier(max_depth=7, max_features=10, random_state=seed)\n",
        "dt.fit(X_train, Y_train)\n",
        "\n",
        "pred_dt = dt.predict(X_test)\n",
        "print('Accuracy: %.4f' % accuracy_score(Y_test, pred_dt))\n",
        "\n",
        "print(\"\\ntime :\", time.time() - start)\n",
        "print(\"feature importance: \\n{}\".format(dt.feature_importances_))\n",
        "\n",
        "del dt"
      ],
      "execution_count": null,
      "outputs": [
        {
          "output_type": "stream",
          "text": [
            "Accuracy: 0.9556\n",
            "\n",
            "time : 5.524510622024536\n",
            "feature importance: \n",
            "[2.74990896e-03 1.64662440e-03 5.10823170e-03 8.90754668e-03\n",
            " 5.23444872e-02 8.61596073e-03 8.76074646e-01 7.10814152e-03\n",
            " 2.54639487e-03 2.85821775e-04 2.41901378e-02 2.18768846e-03\n",
            " 5.67122522e-04 7.66728776e-03]\n"
          ],
          "name": "stdout"
        }
      ]
    },
    {
      "cell_type": "code",
      "metadata": {
        "colab": {
          "base_uri": "https://localhost:8080/"
        },
        "id": "FHzo-K7c5QiU",
        "outputId": "6e0f28c7-14a1-4e9c-81b5-ca0425cf43f4"
      },
      "source": [
        "params = {'min_samples_leaf': [1,3,5,6], 'min_samples_split':[2,4,6], 'max_features':[12,13,None]}\n",
        "grid_search_cv = GridSearchCV(DecisionTreeClassifier(max_depth=7, random_state=seed), params, verbose=1, cv=5)\n",
        "grid_search_cv.fit(X_train, Y_train)\n",
        "print(grid_search_cv.best_estimator_)\n",
        "\n",
        "pred_grid_search_cv = grid_search_cv.predict(X_test)\n",
        "print('Accuracy: %.4f' % accuracy_score(Y_test, pred_grid_search_cv))"
      ],
      "execution_count": null,
      "outputs": [
        {
          "output_type": "stream",
          "text": [
            "Fitting 5 folds for each of 36 candidates, totalling 180 fits\n"
          ],
          "name": "stdout"
        },
        {
          "output_type": "stream",
          "text": [
            "[Parallel(n_jobs=1)]: Using backend SequentialBackend with 1 concurrent workers.\n",
            "[Parallel(n_jobs=1)]: Done 180 out of 180 | elapsed: 16.7min finished\n"
          ],
          "name": "stderr"
        },
        {
          "output_type": "stream",
          "text": [
            "DecisionTreeClassifier(ccp_alpha=0.0, class_weight=None, criterion='gini',\n",
            "                       max_depth=7, max_features=13, max_leaf_nodes=None,\n",
            "                       min_impurity_decrease=0.0, min_impurity_split=None,\n",
            "                       min_samples_leaf=5, min_samples_split=2,\n",
            "                       min_weight_fraction_leaf=0.0, presort='deprecated',\n",
            "                       random_state=0, splitter='best')\n",
            "Accuracy: 0.9562\n"
          ],
          "name": "stdout"
        }
      ]
    },
    {
      "cell_type": "markdown",
      "metadata": {
        "id": "Qzl1cnsLRWBz"
      },
      "source": [
        "# 모드 37"
      ]
    },
    {
      "cell_type": "code",
      "metadata": {
        "id": "N4VMWtdK6OcM"
      },
      "source": [
        "x = df_mode37[:, 0:input_num]\n",
        "y = df_mode37[:, input_num]\n",
        "X_train, X_test, Y_train, Y_test = train_test_split(x, y, test_size=0.2, random_state=seed)"
      ],
      "execution_count": null,
      "outputs": []
    },
    {
      "cell_type": "code",
      "metadata": {
        "colab": {
          "base_uri": "https://localhost:8080/"
        },
        "id": "SvyRB6CW6OeL",
        "outputId": "fcd366f7-3043-482b-b5a9-d5de3cbec4fd"
      },
      "source": [
        "# 다른 제한 없음\n",
        "\n",
        "start = time.time()\n",
        "\n",
        "dt = DecisionTreeClassifier(max_depth=7, random_state=seed)\n",
        "dt.fit(X_train, Y_train)\n",
        "\n",
        "pred_dt = dt.predict(X_test)\n",
        "print('Accuracy: %.4f' % accuracy_score(Y_test, pred_dt))\n",
        "\n",
        "print(\"\\ntime :\", time.time() - start)\n",
        "\n",
        "print(\"feature importance: \\n{}\".format(dt.feature_importances_))\n",
        "\n",
        "dot_data = export_graphviz(dt, out_file=None, filled=True, rounded=True, special_characters=True, class_names=[\"0\",\"1\"])\n",
        "graph = pydotplus.graph_from_dot_data(dot_data)\n",
        "graph.write_png('mode37_dt_depth7.png')\n",
        "\n",
        "del dt"
      ],
      "execution_count": null,
      "outputs": [
        {
          "output_type": "stream",
          "text": [
            "Accuracy: 0.9751\n",
            "\n",
            "time : 2.16957688331604\n",
            "feature importance: \n",
            "[1.01954608e-01 7.83539136e-02 3.59502003e-02 6.34658825e-01\n",
            " 0.00000000e+00 0.00000000e+00 1.82983363e-03 2.07785007e-02\n",
            " 1.43535885e-05 7.19140971e-03 0.00000000e+00 1.03870461e-01\n",
            " 7.54160400e-05 1.53224789e-02]\n"
          ],
          "name": "stdout"
        }
      ]
    },
    {
      "cell_type": "code",
      "metadata": {
        "colab": {
          "base_uri": "https://localhost:8080/"
        },
        "id": "afgrvW_06OeH",
        "outputId": "386888d2-2f92-4851-c6e1-d10411b9591c"
      },
      "source": [
        "# min_impurity_decrease=0.01\n",
        "\n",
        "start = time.time()\n",
        "\n",
        "dt = DecisionTreeClassifier(max_depth=7, min_impurity_decrease=0.01, random_state=seed)\n",
        "dt.fit(X_train, Y_train)\n",
        "\n",
        "pred_dt = dt.predict(X_test)\n",
        "print('Accuracy: %.4f' % accuracy_score(Y_test, pred_dt))\n",
        "\n",
        "print(\"\\ntime :\", time.time() - start)\n",
        "print(\"feature importance: \\n{}\".format(dt.feature_importances_))\n",
        "\n",
        "del dt"
      ],
      "execution_count": null,
      "outputs": [
        {
          "output_type": "stream",
          "text": [
            "Accuracy: 0.9489\n",
            "\n",
            "time : 1.0394270420074463\n",
            "feature importance: \n",
            "[0.05627045 0.08418994 0.         0.76597845 0.         0.\n",
            " 0.         0.         0.         0.         0.         0.09356116\n",
            " 0.         0.        ]\n"
          ],
          "name": "stdout"
        }
      ]
    },
    {
      "cell_type": "code",
      "metadata": {
        "colab": {
          "base_uri": "https://localhost:8080/"
        },
        "id": "UT0Y_VG36OeS",
        "outputId": "b6b3b0cd-fa3d-4c94-8072-f097a1fd3d50"
      },
      "source": [
        "# min_samples_leaf=5\n",
        "\n",
        "start = time.time()\n",
        "\n",
        "dt = DecisionTreeClassifier(max_depth=7, min_samples_leaf=5, random_state=seed)\n",
        "dt.fit(X_train, Y_train)\n",
        "\n",
        "pred_dt = dt.predict(X_test)\n",
        "print('Accuracy: %.4f' % accuracy_score(Y_test, pred_dt))\n",
        "\n",
        "print(\"\\ntime :\", time.time() - start)\n",
        "print(\"feature importance: \\n{}\".format(dt.feature_importances_))\n",
        "\n",
        "del dt"
      ],
      "execution_count": null,
      "outputs": [
        {
          "output_type": "stream",
          "text": [
            "Accuracy: 0.9752\n",
            "\n",
            "time : 2.250152587890625\n",
            "feature importance: \n",
            "[1.01974195e-01 7.83131322e-02 3.59504942e-02 6.34664014e-01\n",
            " 0.00000000e+00 0.00000000e+00 1.82984860e-03 2.07981681e-02\n",
            " 0.00000000e+00 7.23289053e-03 0.00000000e+00 1.03871310e-01\n",
            " 7.54166566e-05 1.52905308e-02]\n"
          ],
          "name": "stdout"
        }
      ]
    },
    {
      "cell_type": "code",
      "metadata": {
        "colab": {
          "base_uri": "https://localhost:8080/"
        },
        "id": "Kk3Ivr6E6OeW",
        "outputId": "d98d18bf-fb82-46ed-ff23-59f54e469e03"
      },
      "source": [
        "# max_features=10\n",
        "\n",
        "start = time.time()\n",
        "\n",
        "dt = DecisionTreeClassifier(max_depth=7, max_features=10, random_state=seed)\n",
        "dt.fit(X_train, Y_train)\n",
        "\n",
        "pred_dt = dt.predict(X_test)\n",
        "print('Accuracy: %.4f' % accuracy_score(Y_test, pred_dt))\n",
        "\n",
        "print(\"\\ntime :\", time.time() - start)\n",
        "print(\"feature importance: \\n{}\".format(dt.feature_importances_))\n",
        "\n",
        "del dt"
      ],
      "execution_count": null,
      "outputs": [
        {
          "output_type": "stream",
          "text": [
            "Accuracy: 0.9735\n",
            "\n",
            "time : 1.631093978881836\n",
            "feature importance: \n",
            "[7.84228002e-02 7.44233006e-02 1.00862530e-01 6.66268158e-01\n",
            " 0.00000000e+00 0.00000000e+00 1.89684780e-03 2.48303847e-02\n",
            " 1.44623957e-05 8.38566543e-03 6.02883923e-03 2.36318459e-02\n",
            " 0.00000000e+00 1.52351658e-02]\n"
          ],
          "name": "stdout"
        }
      ]
    },
    {
      "cell_type": "code",
      "metadata": {
        "colab": {
          "base_uri": "https://localhost:8080/"
        },
        "id": "U3Qsg2DP6OeZ",
        "outputId": "b9af3619-69a8-4f58-fcf2-ce7894fb8bed"
      },
      "source": [
        "params = {'min_samples_leaf': [1,3,4,6], 'min_samples_split':[2,4,6], 'max_features': [12,13,None]}\n",
        "grid_search_cv = GridSearchCV(DecisionTreeClassifier(max_depth=7, random_state=seed), params, verbose=1, cv=5)\n",
        "grid_search_cv.fit(X_train, Y_train)\n",
        "print(grid_search_cv.best_estimator_)\n",
        "\n",
        "pred_grid_search_cv = grid_search_cv.predict(X_test)\n",
        "print('Accuracy: %.4f' % accuracy_score(Y_test, pred_grid_search_cv))"
      ],
      "execution_count": null,
      "outputs": [
        {
          "output_type": "stream",
          "text": [
            "Fitting 5 folds for each of 36 candidates, totalling 180 fits\n"
          ],
          "name": "stdout"
        },
        {
          "output_type": "stream",
          "text": [
            "[Parallel(n_jobs=1)]: Using backend SequentialBackend with 1 concurrent workers.\n",
            "[Parallel(n_jobs=1)]: Done 180 out of 180 | elapsed:  4.7min finished\n"
          ],
          "name": "stderr"
        },
        {
          "output_type": "stream",
          "text": [
            "DecisionTreeClassifier(ccp_alpha=0.0, class_weight=None, criterion='gini',\n",
            "                       max_depth=7, max_features=None, max_leaf_nodes=None,\n",
            "                       min_impurity_decrease=0.0, min_impurity_split=None,\n",
            "                       min_samples_leaf=6, min_samples_split=2,\n",
            "                       min_weight_fraction_leaf=0.0, presort='deprecated',\n",
            "                       random_state=0, splitter='best')\n",
            "Accuracy: 0.9752\n"
          ],
          "name": "stdout"
        }
      ]
    },
    {
      "cell_type": "code",
      "metadata": {
        "colab": {
          "base_uri": "https://localhost:8080/"
        },
        "id": "Q6YOHqAmEIPs",
        "outputId": "79c1681e-aa41-424a-8142-7d0be63b45b4"
      },
      "source": [
        "# min_samples_leaf=5\n",
        "\n",
        "start = time.time()\n",
        "\n",
        "dt = DecisionTreeClassifier(max_depth=7, min_samples_leaf=300, random_state=seed)\n",
        "dt.fit(X_train, Y_train)\n",
        "\n",
        "pred_dt = dt.predict(X_test)\n",
        "print('Accuracy: %.4f' % accuracy_score(Y_test, pred_dt))\n",
        "\n",
        "print(\"\\ntime :\", time.time() - start)\n",
        "print(\"feature importance: \\n{}\".format(dt.feature_importances_))\n",
        "\n",
        "del dt"
      ],
      "execution_count": null,
      "outputs": [
        {
          "output_type": "stream",
          "text": [
            "Accuracy: 0.9730\n",
            "\n",
            "time : 2.1528780460357666\n",
            "feature importance: \n",
            "[1.03199738e-01 7.03122945e-02 3.62139482e-02 6.40777983e-01\n",
            " 0.00000000e+00 0.00000000e+00 1.73123748e-04 2.03015788e-02\n",
            " 0.00000000e+00 7.08912277e-03 0.00000000e+00 1.05365504e-01\n",
            " 7.62094152e-05 1.64904973e-02]\n"
          ],
          "name": "stdout"
        }
      ]
    },
    {
      "cell_type": "markdown",
      "metadata": {
        "id": "OXyFWn43RYhh"
      },
      "source": [
        "# 모드 38"
      ]
    },
    {
      "cell_type": "code",
      "metadata": {
        "id": "jkgNxPKk6TOx"
      },
      "source": [
        "x = df_mode38[:, 0:input_num]\n",
        "y = df_mode38[:, input_num]\n",
        "X_train, X_test, Y_train, Y_test = train_test_split(x, y, test_size=0.2, random_state=seed)"
      ],
      "execution_count": null,
      "outputs": []
    },
    {
      "cell_type": "code",
      "metadata": {
        "colab": {
          "base_uri": "https://localhost:8080/"
        },
        "id": "eVGLD90s6TPC",
        "outputId": "38c41202-26bc-49bd-db9c-f6ff4ec0473b"
      },
      "source": [
        "# 다른 제한 없음\n",
        "\n",
        "start = time.time()\n",
        "\n",
        "dt = DecisionTreeClassifier(max_depth=7, random_state=seed)\n",
        "dt.fit(X_train, Y_train)\n",
        "\n",
        "pred_dt = dt.predict(X_test)\n",
        "print('Accuracy: %.4f' % accuracy_score(Y_test, pred_dt))\n",
        "\n",
        "print(\"\\ntime :\", time.time() - start)\n",
        "\n",
        "print(\"feature importance: \\n{}\".format(dt.feature_importances_))\n",
        "\n",
        "dot_data = export_graphviz(dt, out_file=None, filled=True, rounded=True, special_characters=True, class_names=[\"0\",\"1\"])\n",
        "graph = pydotplus.graph_from_dot_data(dot_data)\n",
        "graph.write_png('mode38_dt_depth7.png')\n",
        "\n",
        "del dt"
      ],
      "execution_count": null,
      "outputs": [
        {
          "output_type": "stream",
          "text": [
            "Accuracy: 0.9321\n",
            "\n",
            "time : 3.5552027225494385\n",
            "feature importance: \n",
            "[0.06864892 0.1215962  0.05477346 0.5947699  0.00078076 0.\n",
            " 0.08772111 0.04205532 0.         0.00062364 0.         0.02014763\n",
            " 0.00236509 0.00651797]\n"
          ],
          "name": "stdout"
        }
      ]
    },
    {
      "cell_type": "code",
      "metadata": {
        "colab": {
          "base_uri": "https://localhost:8080/"
        },
        "id": "KnWDbtS-6TO-",
        "outputId": "d2604bb5-0c52-42b5-d4da-037906d58a53"
      },
      "source": [
        "# min_impurity_decrease=0.01\n",
        "\n",
        "start = time.time()\n",
        "\n",
        "dt = DecisionTreeClassifier(max_depth=7, min_impurity_decrease=0.01, random_state=seed)\n",
        "dt.fit(X_train, Y_train)\n",
        "\n",
        "pred_dt = dt.predict(X_test)\n",
        "print('Accuracy: %.4f' % accuracy_score(Y_test, pred_dt))\n",
        "\n",
        "print(\"\\ntime :\", time.time() - start)\n",
        "print(\"feature importance: \\n{}\".format(dt.feature_importances_))\n",
        "\n",
        "del dt"
      ],
      "execution_count": null,
      "outputs": [
        {
          "output_type": "stream",
          "text": [
            "Accuracy: 0.8855\n",
            "\n",
            "time : 1.879246711730957\n",
            "feature importance: \n",
            "[0.         0.15144037 0.         0.84855963 0.         0.\n",
            " 0.         0.         0.         0.         0.         0.\n",
            " 0.         0.        ]\n"
          ],
          "name": "stdout"
        }
      ]
    },
    {
      "cell_type": "code",
      "metadata": {
        "colab": {
          "base_uri": "https://localhost:8080/"
        },
        "id": "S0WF22FT6TPF",
        "outputId": "e1b65058-1af1-4428-e5ae-5a8ab7711f70"
      },
      "source": [
        "# min_samples_leaf=5\n",
        "\n",
        "start = time.time()\n",
        "\n",
        "dt = DecisionTreeClassifier(max_depth=7, min_samples_leaf=5, random_state=seed)\n",
        "dt.fit(X_train, Y_train)\n",
        "\n",
        "pred_dt = dt.predict(X_test)\n",
        "print('Accuracy: %.4f' % accuracy_score(Y_test, pred_dt))\n",
        "\n",
        "print(\"\\ntime :\", time.time() - start)\n",
        "print(\"feature importance: \\n{}\".format(dt.feature_importances_))\n",
        "\n",
        "del dt"
      ],
      "execution_count": null,
      "outputs": [
        {
          "output_type": "stream",
          "text": [
            "Accuracy: 0.9321\n",
            "\n",
            "time : 3.804699182510376\n",
            "feature importance: \n",
            "[0.06864892 0.1215962  0.05477346 0.5947699  0.00078076 0.\n",
            " 0.08772111 0.04205532 0.         0.00062364 0.         0.02014763\n",
            " 0.00236509 0.00651797]\n"
          ],
          "name": "stdout"
        }
      ]
    },
    {
      "cell_type": "code",
      "metadata": {
        "colab": {
          "base_uri": "https://localhost:8080/"
        },
        "id": "0hxvJx8M6TPJ",
        "outputId": "fb92b8b2-7b7b-4605-c695-b60dfbc3bf29"
      },
      "source": [
        "# max_features=10\n",
        "\n",
        "start = time.time()\n",
        "\n",
        "dt = DecisionTreeClassifier(max_depth=7, max_features=10, random_state=seed)\n",
        "dt.fit(X_train, Y_train)\n",
        "\n",
        "pred_dt = dt.predict(X_test)\n",
        "print('Accuracy: %.4f' % accuracy_score(Y_test, pred_dt))\n",
        "\n",
        "print(\"\\ntime :\", time.time() - start)\n",
        "print(\"feature importance: \\n{}\".format(dt.feature_importances_))\n",
        "\n",
        "del dt"
      ],
      "execution_count": null,
      "outputs": [
        {
          "output_type": "stream",
          "text": [
            "Accuracy: 0.9312\n",
            "\n",
            "time : 2.8019750118255615\n",
            "feature importance: \n",
            "[7.34294270e-02 1.21414009e-01 5.33392333e-02 5.93949040e-01\n",
            " 1.31840660e-03 0.00000000e+00 9.01210286e-02 2.15663385e-02\n",
            " 0.00000000e+00 8.85935141e-03 4.86233124e-04 3.37779257e-02\n",
            " 4.36951043e-04 1.30205559e-03]\n"
          ],
          "name": "stdout"
        }
      ]
    },
    {
      "cell_type": "code",
      "metadata": {
        "colab": {
          "base_uri": "https://localhost:8080/"
        },
        "id": "yLcSOSa1tprm",
        "outputId": "38bc11dd-a7da-4e98-9a02-c0734b01f04c"
      },
      "source": [
        "# min_samples_leaf=3, min_samples_split=3\n",
        "\n",
        "start = time.time()\n",
        "\n",
        "dt = DecisionTreeClassifier(max_depth=7, min_samples_leaf=3, min_samples_split=3, random_state=seed)\n",
        "dt.fit(X_train, Y_train)\n",
        "\n",
        "pred_dt = dt.predict(X_test)\n",
        "print('Accuracy: %.4f' % accuracy_score(Y_test, pred_dt))\n",
        "\n",
        "print(\"\\ntime :\", time.time() - start)\n",
        "print(\"feature importance: \\n{}\".format(dt.feature_importances_))\n",
        "\n",
        "del dt"
      ],
      "execution_count": null,
      "outputs": [
        {
          "output_type": "stream",
          "text": [
            "Accuracy: 0.9321\n",
            "\n",
            "time : 3.481593132019043\n",
            "feature importance: \n",
            "[0.06864892 0.1215962  0.05477346 0.5947699  0.00078076 0.\n",
            " 0.08772111 0.04205532 0.         0.00062364 0.         0.02014763\n",
            " 0.00236509 0.00651797]\n"
          ],
          "name": "stdout"
        }
      ]
    },
    {
      "cell_type": "code",
      "metadata": {
        "colab": {
          "base_uri": "https://localhost:8080/"
        },
        "id": "0uIt9Mnd6TPN",
        "outputId": "5e611b8e-e080-4e86-e857-174ffa1fa8aa"
      },
      "source": [
        "params = {'min_samples_leaf': [1,2,4,6], 'min_samples_split': [2,4,6], 'max_features': [12,13,None]}\n",
        "grid_search_cv = GridSearchCV(DecisionTreeClassifier(max_depth=7, random_state=seed), params, verbose=1, cv=5)\n",
        "grid_search_cv.fit(X_train, Y_train)\n",
        "print(grid_search_cv.best_estimator_)\n",
        "\n",
        "pred_grid_search_cv = grid_search_cv.predict(X_test)\n",
        "print('Accuracy: %.4f' % accuracy_score(Y_test, pred_grid_search_cv))"
      ],
      "execution_count": null,
      "outputs": [
        {
          "output_type": "stream",
          "text": [
            "Fitting 5 folds for each of 36 candidates, totalling 180 fits\n"
          ],
          "name": "stdout"
        },
        {
          "output_type": "stream",
          "text": [
            "[Parallel(n_jobs=1)]: Using backend SequentialBackend with 1 concurrent workers.\n",
            "[Parallel(n_jobs=1)]: Done 180 out of 180 | elapsed:  7.7min finished\n"
          ],
          "name": "stderr"
        },
        {
          "output_type": "stream",
          "text": [
            "DecisionTreeClassifier(ccp_alpha=0.0, class_weight=None, criterion='gini',\n",
            "                       max_depth=7, max_features=None, max_leaf_nodes=None,\n",
            "                       min_impurity_decrease=0.0, min_impurity_split=None,\n",
            "                       min_samples_leaf=6, min_samples_split=2,\n",
            "                       min_weight_fraction_leaf=0.0, presort='deprecated',\n",
            "                       random_state=0, splitter='best')\n",
            "Accuracy: 0.9321\n"
          ],
          "name": "stdout"
        }
      ]
    }
  ]
}